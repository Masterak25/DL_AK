{
  "nbformat": 4,
  "nbformat_minor": 0,
  "metadata": {
    "interpreter": {
      "hash": "a5bcc3432d92babd5f87a2bcda8d0e22a8dc8da8f6a2f95742459b3072c9e04b"
    },
    "kernelspec": {
      "display_name": "Python 3.9.6 64-bit",
      "name": "python3"
    },
    "language_info": {
      "codemirror_mode": {
        "name": "ipython",
        "version": 3
      },
      "file_extension": ".py",
      "mimetype": "text/x-python",
      "name": "python",
      "nbconvert_exporter": "python",
      "pygments_lexer": "ipython3",
      "version": "3.9.6"
    },
    "orig_nbformat": 4,
    "colab": {
      "name": "stock_RNN_LSTM.ipynb",
      "provenance": [],
      "include_colab_link": true
    }
  },
  "cells": [
    {
      "cell_type": "markdown",
      "metadata": {
        "id": "view-in-github",
        "colab_type": "text"
      },
      "source": [
        "<a href=\"https://colab.research.google.com/github/Masterak25/DL_AK/blob/main/crypto_stock_RNN_LSTM.ipynb\" target=\"_parent\"><img src=\"https://colab.research.google.com/assets/colab-badge.svg\" alt=\"Open In Colab\"/></a>"
      ]
    },
    {
      "cell_type": "markdown",
      "metadata": {
        "id": "mMbNUBU3yi9I"
      },
      "source": [
        "# Step #1 Load the Time Series Data"
      ]
    },
    {
      "cell_type": "code",
      "metadata": {
        "colab": {
          "base_uri": "https://localhost:8080/",
          "height": 471
        },
        "id": "V-OCGYIFveHW",
        "outputId": "81a930f6-333f-4aa3-e9ef-113817a6bdfe"
      },
      "source": [
        "import math # Mathematical functions \n",
        "import numpy as np # Fundamental package for scientific computing with Python\n",
        "import pandas as pd # Additional functions for analysing and manipulating data\n",
        "from datetime import date, timedelta, datetime # Date Functions\n",
        "from pandas.plotting import register_matplotlib_converters # This function adds plotting functions for calender dates\n",
        "import matplotlib.pyplot as plt # Important package for visualization - we use this to plot the market data\n",
        "import matplotlib.dates as mdates # Formatting dates\n",
        "from sklearn.metrics import mean_absolute_error, mean_squared_error # Packages for measuring model performance / errors\n",
        "from keras.models import Sequential # Deep learning library, used for neural networks\n",
        "from keras.layers import LSTM, Dense, Dropout # Deep learning classes for recurrent and regular densely-connected layers\n",
        "from keras.callbacks import EarlyStopping # EarlyStopping during model training\n",
        "from sklearn.preprocessing import RobustScaler, MinMaxScaler # This Scaler removes the median and scales the data according to the quantile range to normalize the price data \n",
        "import seaborn as sns\n",
        "\n",
        "# Setting the timeframe for the data extraction\n",
        "today = date.today()\n",
        "date_today = today.strftime(\"%Y-%m-%d\")\n",
        "date_start = '2010-01-01'\n",
        "\n",
        "# Getting NASDAQ quotes\n",
        "stockname = 'DOGE'\n",
        "symbol = 'DOGE-USD'\n",
        "\n",
        "# You can either use webreader or yfinance to load the data from yahoo finance\n",
        "# import pandas_datareader as webreader\n",
        "# df = webreader.DataReader(symbol, start=date_start, end=date_today, data_source=\"yahoo\")\n",
        "\n",
        "import yfinance as yf #Alternative package if webreader does not work: pip install yfinance\n",
        "df = yf.download(symbol, start=date_start, end=date_today)\n",
        "\n",
        "# Create a quick overview of the dataset\n",
        "df"
      ],
      "execution_count": 6,
      "outputs": [
        {
          "output_type": "stream",
          "name": "stdout",
          "text": [
            "\r[*********************100%***********************]  1 of 1 completed\n"
          ]
        },
        {
          "output_type": "execute_result",
          "data": {
            "text/html": [
              "<div>\n",
              "<style scoped>\n",
              "    .dataframe tbody tr th:only-of-type {\n",
              "        vertical-align: middle;\n",
              "    }\n",
              "\n",
              "    .dataframe tbody tr th {\n",
              "        vertical-align: top;\n",
              "    }\n",
              "\n",
              "    .dataframe thead th {\n",
              "        text-align: right;\n",
              "    }\n",
              "</style>\n",
              "<table border=\"1\" class=\"dataframe\">\n",
              "  <thead>\n",
              "    <tr style=\"text-align: right;\">\n",
              "      <th></th>\n",
              "      <th>Open</th>\n",
              "      <th>High</th>\n",
              "      <th>Low</th>\n",
              "      <th>Close</th>\n",
              "      <th>Adj Close</th>\n",
              "      <th>Volume</th>\n",
              "    </tr>\n",
              "    <tr>\n",
              "      <th>Date</th>\n",
              "      <th></th>\n",
              "      <th></th>\n",
              "      <th></th>\n",
              "      <th></th>\n",
              "      <th></th>\n",
              "      <th></th>\n",
              "    </tr>\n",
              "  </thead>\n",
              "  <tbody>\n",
              "    <tr>\n",
              "      <th>2014-09-17</th>\n",
              "      <td>0.000293</td>\n",
              "      <td>0.000299</td>\n",
              "      <td>0.000260</td>\n",
              "      <td>0.000268</td>\n",
              "      <td>0.000268</td>\n",
              "      <td>1463600</td>\n",
              "    </tr>\n",
              "    <tr>\n",
              "      <th>2014-09-18</th>\n",
              "      <td>0.000268</td>\n",
              "      <td>0.000325</td>\n",
              "      <td>0.000267</td>\n",
              "      <td>0.000298</td>\n",
              "      <td>0.000298</td>\n",
              "      <td>2215910</td>\n",
              "    </tr>\n",
              "    <tr>\n",
              "      <th>2014-09-19</th>\n",
              "      <td>0.000298</td>\n",
              "      <td>0.000307</td>\n",
              "      <td>0.000275</td>\n",
              "      <td>0.000277</td>\n",
              "      <td>0.000277</td>\n",
              "      <td>883563</td>\n",
              "    </tr>\n",
              "    <tr>\n",
              "      <th>2014-09-20</th>\n",
              "      <td>0.000276</td>\n",
              "      <td>0.000310</td>\n",
              "      <td>0.000267</td>\n",
              "      <td>0.000292</td>\n",
              "      <td>0.000292</td>\n",
              "      <td>993004</td>\n",
              "    </tr>\n",
              "    <tr>\n",
              "      <th>2014-09-21</th>\n",
              "      <td>0.000293</td>\n",
              "      <td>0.000299</td>\n",
              "      <td>0.000284</td>\n",
              "      <td>0.000288</td>\n",
              "      <td>0.000288</td>\n",
              "      <td>539140</td>\n",
              "    </tr>\n",
              "    <tr>\n",
              "      <th>...</th>\n",
              "      <td>...</td>\n",
              "      <td>...</td>\n",
              "      <td>...</td>\n",
              "      <td>...</td>\n",
              "      <td>...</td>\n",
              "      <td>...</td>\n",
              "    </tr>\n",
              "    <tr>\n",
              "      <th>2021-10-24</th>\n",
              "      <td>0.251432</td>\n",
              "      <td>0.281935</td>\n",
              "      <td>0.246028</td>\n",
              "      <td>0.277048</td>\n",
              "      <td>0.277048</td>\n",
              "      <td>5278760541</td>\n",
              "    </tr>\n",
              "    <tr>\n",
              "      <th>2021-10-25</th>\n",
              "      <td>0.275745</td>\n",
              "      <td>0.279472</td>\n",
              "      <td>0.260220</td>\n",
              "      <td>0.264707</td>\n",
              "      <td>0.264707</td>\n",
              "      <td>3364560707</td>\n",
              "    </tr>\n",
              "    <tr>\n",
              "      <th>2021-10-26</th>\n",
              "      <td>0.264783</td>\n",
              "      <td>0.274317</td>\n",
              "      <td>0.253721</td>\n",
              "      <td>0.255732</td>\n",
              "      <td>0.255732</td>\n",
              "      <td>2513384162</td>\n",
              "    </tr>\n",
              "    <tr>\n",
              "      <th>2021-10-27</th>\n",
              "      <td>0.255836</td>\n",
              "      <td>0.263317</td>\n",
              "      <td>0.220328</td>\n",
              "      <td>0.237690</td>\n",
              "      <td>0.237690</td>\n",
              "      <td>5022822846</td>\n",
              "    </tr>\n",
              "    <tr>\n",
              "      <th>2021-10-28</th>\n",
              "      <td>0.238658</td>\n",
              "      <td>0.338843</td>\n",
              "      <td>0.233694</td>\n",
              "      <td>0.297734</td>\n",
              "      <td>0.297734</td>\n",
              "      <td>20079505408</td>\n",
              "    </tr>\n",
              "  </tbody>\n",
              "</table>\n",
              "<p>2595 rows × 6 columns</p>\n",
              "</div>"
            ],
            "text/plain": [
              "                Open      High       Low     Close  Adj Close       Volume\n",
              "Date                                                                      \n",
              "2014-09-17  0.000293  0.000299  0.000260  0.000268   0.000268      1463600\n",
              "2014-09-18  0.000268  0.000325  0.000267  0.000298   0.000298      2215910\n",
              "2014-09-19  0.000298  0.000307  0.000275  0.000277   0.000277       883563\n",
              "2014-09-20  0.000276  0.000310  0.000267  0.000292   0.000292       993004\n",
              "2014-09-21  0.000293  0.000299  0.000284  0.000288   0.000288       539140\n",
              "...              ...       ...       ...       ...        ...          ...\n",
              "2021-10-24  0.251432  0.281935  0.246028  0.277048   0.277048   5278760541\n",
              "2021-10-25  0.275745  0.279472  0.260220  0.264707   0.264707   3364560707\n",
              "2021-10-26  0.264783  0.274317  0.253721  0.255732   0.255732   2513384162\n",
              "2021-10-27  0.255836  0.263317  0.220328  0.237690   0.237690   5022822846\n",
              "2021-10-28  0.238658  0.338843  0.233694  0.297734   0.297734  20079505408\n",
              "\n",
              "[2595 rows x 6 columns]"
            ]
          },
          "metadata": {},
          "execution_count": 6
        }
      ]
    },
    {
      "cell_type": "markdown",
      "metadata": {
        "id": "bPFEaqmAymtY"
      },
      "source": [
        "# Step #2 Explore the Data"
      ]
    },
    {
      "cell_type": "code",
      "metadata": {
        "id": "Ib7O81fXvnwX"
      },
      "source": [
        "#! pip install yfinance"
      ],
      "execution_count": 7,
      "outputs": []
    },
    {
      "cell_type": "code",
      "metadata": {
        "colab": {
          "base_uri": "https://localhost:8080/",
          "height": 513
        },
        "id": "3y2-F4F1veHZ",
        "outputId": "5aa73e52-477e-4792-d3bf-7a8b8374c6f8"
      },
      "source": [
        "# Plot line charts\n",
        "df_plot = df.copy()\n",
        "\n",
        "list_length = df_plot.shape[1]\n",
        "ncols = 2\n",
        "nrows = int(round(list_length / ncols, 0))\n",
        "\n",
        "fig, ax = plt.subplots(nrows=nrows, ncols=ncols, sharex=True, figsize=(14, 7))\n",
        "fig.subplots_adjust(hspace=0.5, wspace=0.5)\n",
        "for i in range(0, list_length):\n",
        "        ax = plt.subplot(nrows,ncols,i+1)\n",
        "        sns.lineplot(data = df_plot.iloc[:, i], ax=ax)\n",
        "        ax.set_title(df_plot.columns[i])\n",
        "        ax.tick_params(axis=\"x\", rotation=30, labelsize=10, length=0)\n",
        "        ax.xaxis.set_major_locator(mdates.AutoDateLocator())\n",
        "fig.tight_layout()\n",
        "plt.show()"
      ],
      "execution_count": 8,
      "outputs": [
        {
          "output_type": "display_data",
          "data": {
            "image/png": "[encoded data removed]",
            "text/plain": [
              "<Figure size 1008x504 with 6 Axes>"
            ]
          },
          "metadata": {
            "needs_background": "light"
          }
        }
      ]
    },
    {
      "cell_type": "markdown",
      "metadata": {
        "id": "9BSG78TYyuXf"
      },
      "source": [
        "# Step #3 Scaling and Feature Selection"
      ]
    },
    {
      "cell_type": "code",
      "metadata": {
        "id": "h57BjiOKveHa",
        "colab": {
          "base_uri": "https://localhost:8080/",
          "height": 205
        },
        "outputId": "1d9f62fe-cacd-404b-ec61-318952bb0fed"
      },
      "source": [
        "# Indexing Batches\n",
        "train_df = df.sort_values(by=['Date']).copy()\n",
        "\n",
        "# We safe a copy of the dates index, before we need to reset it to numbers\n",
        "date_index = train_df.index\n",
        "\n",
        "# Adding Month and Year in separate columns\n",
        "# d = pd.to_datetime(train_df.index)\n",
        "# train_df['Month'] = d.strftime(\"%m\")\n",
        "# train_df['Year'] = d.strftime(\"%Y\") \n",
        "\n",
        "# We reset the index, so we can convert the date-index to a number-index\n",
        "train_df = train_df.reset_index(drop=True).copy()\n",
        "train_df.head(5)"
      ],
      "execution_count": 9,
      "outputs": [
        {
          "output_type": "execute_result",
          "data": {
            "text/html": [
              "<div>\n",
              "<style scoped>\n",
              "    .dataframe tbody tr th:only-of-type {\n",
              "        vertical-align: middle;\n",
              "    }\n",
              "\n",
              "    .dataframe tbody tr th {\n",
              "        vertical-align: top;\n",
              "    }\n",
              "\n",
              "    .dataframe thead th {\n",
              "        text-align: right;\n",
              "    }\n",
              "</style>\n",
              "<table border=\"1\" class=\"dataframe\">\n",
              "  <thead>\n",
              "    <tr style=\"text-align: right;\">\n",
              "      <th></th>\n",
              "      <th>Open</th>\n",
              "      <th>High</th>\n",
              "      <th>Low</th>\n",
              "      <th>Close</th>\n",
              "      <th>Adj Close</th>\n",
              "      <th>Volume</th>\n",
              "    </tr>\n",
              "  </thead>\n",
              "  <tbody>\n",
              "    <tr>\n",
              "      <th>0</th>\n",
              "      <td>0.000293</td>\n",
              "      <td>0.000299</td>\n",
              "      <td>0.000260</td>\n",
              "      <td>0.000268</td>\n",
              "      <td>0.000268</td>\n",
              "      <td>1463600</td>\n",
              "    </tr>\n",
              "    <tr>\n",
              "      <th>1</th>\n",
              "      <td>0.000268</td>\n",
              "      <td>0.000325</td>\n",
              "      <td>0.000267</td>\n",
              "      <td>0.000298</td>\n",
              "      <td>0.000298</td>\n",
              "      <td>2215910</td>\n",
              "    </tr>\n",
              "    <tr>\n",
              "      <th>2</th>\n",
              "      <td>0.000298</td>\n",
              "      <td>0.000307</td>\n",
              "      <td>0.000275</td>\n",
              "      <td>0.000277</td>\n",
              "      <td>0.000277</td>\n",
              "      <td>883563</td>\n",
              "    </tr>\n",
              "    <tr>\n",
              "      <th>3</th>\n",
              "      <td>0.000276</td>\n",
              "      <td>0.000310</td>\n",
              "      <td>0.000267</td>\n",
              "      <td>0.000292</td>\n",
              "      <td>0.000292</td>\n",
              "      <td>993004</td>\n",
              "    </tr>\n",
              "    <tr>\n",
              "      <th>4</th>\n",
              "      <td>0.000293</td>\n",
              "      <td>0.000299</td>\n",
              "      <td>0.000284</td>\n",
              "      <td>0.000288</td>\n",
              "      <td>0.000288</td>\n",
              "      <td>539140</td>\n",
              "    </tr>\n",
              "  </tbody>\n",
              "</table>\n",
              "</div>"
            ],
            "text/plain": [
              "       Open      High       Low     Close  Adj Close   Volume\n",
              "0  0.000293  0.000299  0.000260  0.000268   0.000268  1463600\n",
              "1  0.000268  0.000325  0.000267  0.000298   0.000298  2215910\n",
              "2  0.000298  0.000307  0.000275  0.000277   0.000277   883563\n",
              "3  0.000276  0.000310  0.000267  0.000292   0.000292   993004\n",
              "4  0.000293  0.000299  0.000284  0.000288   0.000288   539140"
            ]
          },
          "metadata": {},
          "execution_count": 9
        }
      ]
    },
    {
      "cell_type": "code",
      "metadata": {
        "id": "4OZmN7vTveHa",
        "colab": {
          "base_uri": "https://localhost:8080/",
          "height": 240
        },
        "outputId": "c6cf1136-38af-4eef-c6ad-73e9cbc274b5"
      },
      "source": [
        "# List of considered Features\n",
        "FEATURES = ['High', 'Low', 'Open', 'Close', 'Volume'\n",
        "            #, 'Month', 'Year', 'Adj Close'\n",
        "           ]\n",
        "\n",
        "print('FEATURE LIST')\n",
        "print([f for f in FEATURES])\n",
        "\n",
        "# Create the dataset with features and filter the data to the list of FEATURES\n",
        "data = pd.DataFrame(train_df)\n",
        "data_filtered = data[FEATURES]\n",
        "\n",
        "# We add a prediction column and set dummy values to prepare the data for scaling\n",
        "data_filtered_ext = data_filtered.copy()\n",
        "data_filtered_ext['Prediction'] = data_filtered_ext['Close']\n",
        "\n",
        "# Print the tail of the dataframe\n",
        "data_filtered_ext.tail()"
      ],
      "execution_count": 10,
      "outputs": [
        {
          "output_type": "stream",
          "name": "stdout",
          "text": [
            "FEATURE LIST\n",
            "['High', 'Low', 'Open', 'Close', 'Volume']\n"
          ]
        },
        {
          "output_type": "execute_result",
          "data": {
            "text/html": [
              "<div>\n",
              "<style scoped>\n",
              "    .dataframe tbody tr th:only-of-type {\n",
              "        vertical-align: middle;\n",
              "    }\n",
              "\n",
              "    .dataframe tbody tr th {\n",
              "        vertical-align: top;\n",
              "    }\n",
              "\n",
              "    .dataframe thead th {\n",
              "        text-align: right;\n",
              "    }\n",
              "</style>\n",
              "<table border=\"1\" class=\"dataframe\">\n",
              "  <thead>\n",
              "    <tr style=\"text-align: right;\">\n",
              "      <th></th>\n",
              "      <th>High</th>\n",
              "      <th>Low</th>\n",
              "      <th>Open</th>\n",
              "      <th>Close</th>\n",
              "      <th>Volume</th>\n",
              "      <th>Prediction</th>\n",
              "    </tr>\n",
              "  </thead>\n",
              "  <tbody>\n",
              "    <tr>\n",
              "      <th>2590</th>\n",
              "      <td>0.281935</td>\n",
              "      <td>0.246028</td>\n",
              "      <td>0.251432</td>\n",
              "      <td>0.277048</td>\n",
              "      <td>5278760541</td>\n",
              "      <td>0.277048</td>\n",
              "    </tr>\n",
              "    <tr>\n",
              "      <th>2591</th>\n",
              "      <td>0.279472</td>\n",
              "      <td>0.260220</td>\n",
              "      <td>0.275745</td>\n",
              "      <td>0.264707</td>\n",
              "      <td>3364560707</td>\n",
              "      <td>0.264707</td>\n",
              "    </tr>\n",
              "    <tr>\n",
              "      <th>2592</th>\n",
              "      <td>0.274317</td>\n",
              "      <td>0.253721</td>\n",
              "      <td>0.264783</td>\n",
              "      <td>0.255732</td>\n",
              "      <td>2513384162</td>\n",
              "      <td>0.255732</td>\n",
              "    </tr>\n",
              "    <tr>\n",
              "      <th>2593</th>\n",
              "      <td>0.263317</td>\n",
              "      <td>0.220328</td>\n",
              "      <td>0.255836</td>\n",
              "      <td>0.237690</td>\n",
              "      <td>5022822846</td>\n",
              "      <td>0.237690</td>\n",
              "    </tr>\n",
              "    <tr>\n",
              "      <th>2594</th>\n",
              "      <td>0.338843</td>\n",
              "      <td>0.233694</td>\n",
              "      <td>0.238658</td>\n",
              "      <td>0.297734</td>\n",
              "      <td>20079505408</td>\n",
              "      <td>0.297734</td>\n",
              "    </tr>\n",
              "  </tbody>\n",
              "</table>\n",
              "</div>"
            ],
            "text/plain": [
              "          High       Low      Open     Close       Volume  Prediction\n",
              "2590  0.281935  0.246028  0.251432  0.277048   5278760541    0.277048\n",
              "2591  0.279472  0.260220  0.275745  0.264707   3364560707    0.264707\n",
              "2592  0.274317  0.253721  0.264783  0.255732   2513384162    0.255732\n",
              "2593  0.263317  0.220328  0.255836  0.237690   5022822846    0.237690\n",
              "2594  0.338843  0.233694  0.238658  0.297734  20079505408    0.297734"
            ]
          },
          "metadata": {},
          "execution_count": 10
        }
      ]
    },
    {
      "cell_type": "code",
      "metadata": {
        "id": "4g1V6KJZveHb",
        "colab": {
          "base_uri": "https://localhost:8080/"
        },
        "outputId": "be15064d-8969-4192-a0e7-9d01fd3b6e13"
      },
      "source": [
        "# Get the number of rows in the data\n",
        "nrows = data_filtered.shape[0]\n",
        "\n",
        "# Convert the data to numpy values\n",
        "np_data_unscaled = np.array(data_filtered)\n",
        "np_data = np.reshape(np_data_unscaled, (nrows, -1))\n",
        "print(np_data.shape)\n",
        "\n",
        "# Transform the data by scaling each feature to a range between 0 and 1\n",
        "scaler = MinMaxScaler()\n",
        "np_data_scaled = scaler.fit_transform(np_data_unscaled)\n",
        "\n",
        "# Creating a separate scaler that works on a single column for scaling predictions\n",
        "scaler_pred = MinMaxScaler()\n",
        "df_Close = pd.DataFrame(data_filtered_ext['Close'])\n",
        "np_Close_scaled = scaler_pred.fit_transform(df_Close)"
      ],
      "execution_count": 11,
      "outputs": [
        {
          "output_type": "stream",
          "name": "stdout",
          "text": [
            "(2595, 5)\n"
          ]
        }
      ]
    },
    {
      "cell_type": "markdown",
      "metadata": {
        "id": "jazpXEXLy6cI"
      },
      "source": [
        "# Step #4 Transforming the Data"
      ]
    },
    {
      "cell_type": "code",
      "metadata": {
        "id": "u0eflDj5veHb",
        "colab": {
          "base_uri": "https://localhost:8080/"
        },
        "outputId": "b8921736-a388-400c-e5ed-5f4fe609e8b0"
      },
      "source": [
        "# Set the sequence length - this is the timeframe used to make a single prediction\n",
        "sequence_length = 50\n",
        "\n",
        "# Prediction Index\n",
        "index_Close = data.columns.get_loc(\"Close\")\n",
        "\n",
        "# Split the training data into train and train data sets\n",
        "# As a first step, we get the number of rows to train the model on 80% of the data \n",
        "train_data_len = math.ceil(np_data_scaled.shape[0] * 0.8)\n",
        "\n",
        "# Create the training and test data\n",
        "train_data = np_data_scaled[0:train_data_len, :]\n",
        "test_data = np_data_scaled[train_data_len - sequence_length:, :]\n",
        "\n",
        "# The RNN needs data with the format of [samples, time steps, features]\n",
        "# Here, we create N samples, sequence_length time steps per sample, and 6 features\n",
        "def partition_dataset(sequence_length, data):\n",
        "    x, y = [], []\n",
        "    data_len = data.shape[0]\n",
        "    for i in range(sequence_length, data_len):\n",
        "        x.append(data[i-sequence_length:i,:]) #contains sequence_length values 0-sequence_length * columsn\n",
        "        y.append(data[i, index_Close]) #contains the prediction values for validation,  for single-step prediction\n",
        "    \n",
        "    # Convert the x and y to numpy arrays\n",
        "    x = np.array(x)\n",
        "    y = np.array(y)\n",
        "    return x, y\n",
        "\n",
        "# Generate training data and test data\n",
        "x_train, y_train = partition_dataset(sequence_length, train_data)\n",
        "x_test, y_test = partition_dataset(sequence_length, test_data)\n",
        "\n",
        "# Print the shapes: the result is: (rows, training_sequence, features) (prediction value, )\n",
        "print(x_train.shape, y_train.shape)\n",
        "print(x_test.shape, y_test.shape)\n",
        "\n",
        "# Validate that the prediction value and the input match up\n",
        "# The last close price of the second input sample should equal the first prediction value\n",
        "print(x_train[1][sequence_length-1][index_Close])\n",
        "print(y_train[0])"
      ],
      "execution_count": 12,
      "outputs": [
        {
          "output_type": "stream",
          "name": "stdout",
          "text": [
            "(2026, 50, 5) (2026,)\n",
            "(519, 50, 5) (519,)\n",
            "0.00020301158050315736\n",
            "0.00020301158050315736\n"
          ]
        }
      ]
    },
    {
      "cell_type": "markdown",
      "metadata": {
        "id": "HxAVi7PMzEGg"
      },
      "source": [
        "# Step #5 Train the Multivariate Prediction Model"
      ]
    },
    {
      "cell_type": "code",
      "metadata": {
        "id": "UJ9DbWmfveHc",
        "colab": {
          "base_uri": "https://localhost:8080/"
        },
        "outputId": "639bc68e-7f70-4a4f-b917-15a3ae2b8162"
      },
      "source": [
        "# Configure the neural network model\n",
        "model = Sequential()\n",
        "\n",
        "# Model with n_neurons = inputshape Timestamps, each with x_train.shape[2] variables\n",
        "n_neurons = x_train.shape[1] * x_train.shape[2]\n",
        "print(n_neurons, x_train.shape[1], x_train.shape[2])\n",
        "model.add(LSTM(n_neurons, return_sequences=True, input_shape=(x_train.shape[1], x_train.shape[2]))) \n",
        "model.add(LSTM(n_neurons, return_sequences=False))\n",
        "model.add(Dense(5))\n",
        "model.add(Dense(1))\n",
        "\n",
        "# Compile the model\n",
        "model.compile(optimizer='adam', loss='mse')"
      ],
      "execution_count": 13,
      "outputs": [
        {
          "output_type": "stream",
          "name": "stdout",
          "text": [
            "250 50 5\n"
          ]
        }
      ]
    },
    {
      "cell_type": "code",
      "metadata": {
        "id": "NK2Z0DhcveHd",
        "colab": {
          "base_uri": "https://localhost:8080/"
        },
        "outputId": "210dd105-e73f-4716-9532-8e19ab1725cf"
      },
      "source": [
        "# Training the model\n",
        "epochs = 50\n",
        "batch_size = 16\n",
        "early_stop = EarlyStopping(monitor='loss', patience=5, verbose=1)\n",
        "history = model.fit(x_train, y_train, \n",
        "                    batch_size=batch_size, \n",
        "                    epochs=epochs,\n",
        "                    validation_data=(x_test, y_test)\n",
        "                   )\n",
        "                    \n",
        "                    #callbacks=[early_stop])"
      ],
      "execution_count": 14,
      "outputs": [
        {
          "output_type": "stream",
          "name": "stdout",
          "text": [
            "Epoch 1/50\n",
            "127/127 [==============================] - 41s 293ms/step - loss: 3.5320e-05 - val_loss: 0.0040\n",
            "Epoch 2/50\n",
            "127/127 [==============================] - 36s 282ms/step - loss: 8.0537e-07 - val_loss: 0.0034\n",
            "Epoch 3/50\n",
            "127/127 [==============================] - 37s 288ms/step - loss: 8.6711e-07 - val_loss: 0.0040\n",
            "Epoch 4/50\n",
            "127/127 [==============================] - 36s 285ms/step - loss: 6.5405e-07 - val_loss: 0.0039\n",
            "Epoch 5/50\n",
            "127/127 [==============================] - 35s 279ms/step - loss: 5.2286e-07 - val_loss: 0.0033\n",
            "Epoch 6/50\n",
            "127/127 [==============================] - 36s 280ms/step - loss: 6.5180e-07 - val_loss: 0.0027\n",
            "Epoch 7/50\n",
            "127/127 [==============================] - 36s 285ms/step - loss: 5.1721e-07 - val_loss: 0.0025\n",
            "Epoch 8/50\n",
            "127/127 [==============================] - 35s 278ms/step - loss: 6.0239e-07 - val_loss: 0.0027\n",
            "Epoch 9/50\n",
            "127/127 [==============================] - 36s 282ms/step - loss: 4.5578e-07 - val_loss: 0.0026\n",
            "Epoch 10/50\n",
            "127/127 [==============================] - 36s 287ms/step - loss: 5.7127e-07 - val_loss: 0.0027\n",
            "Epoch 11/50\n",
            "127/127 [==============================] - 37s 292ms/step - loss: 4.5520e-07 - val_loss: 0.0023\n",
            "Epoch 12/50\n",
            "127/127 [==============================] - 37s 292ms/step - loss: 5.1682e-07 - val_loss: 0.0021\n",
            "Epoch 13/50\n",
            "127/127 [==============================] - 37s 294ms/step - loss: 6.1123e-07 - val_loss: 0.0027\n",
            "Epoch 14/50\n",
            "127/127 [==============================] - 37s 288ms/step - loss: 4.7816e-07 - val_loss: 0.0020\n",
            "Epoch 15/50\n",
            "127/127 [==============================] - 37s 292ms/step - loss: 5.4355e-07 - val_loss: 0.0021\n",
            "Epoch 16/50\n",
            "127/127 [==============================] - 37s 288ms/step - loss: 4.6430e-07 - val_loss: 0.0021\n",
            "Epoch 17/50\n",
            "127/127 [==============================] - 36s 284ms/step - loss: 7.2648e-07 - val_loss: 0.0020\n",
            "Epoch 18/50\n",
            "127/127 [==============================] - 37s 295ms/step - loss: 5.3744e-07 - val_loss: 0.0020\n",
            "Epoch 19/50\n",
            "127/127 [==============================] - 37s 293ms/step - loss: 5.8381e-07 - val_loss: 0.0019\n",
            "Epoch 20/50\n",
            "127/127 [==============================] - 36s 285ms/step - loss: 3.8901e-07 - val_loss: 0.0032\n",
            "Epoch 21/50\n",
            "127/127 [==============================] - 36s 285ms/step - loss: 5.7617e-07 - val_loss: 0.0017\n",
            "Epoch 22/50\n",
            "127/127 [==============================] - 36s 281ms/step - loss: 4.0249e-07 - val_loss: 0.0018\n",
            "Epoch 23/50\n",
            "127/127 [==============================] - 37s 290ms/step - loss: 5.0335e-07 - val_loss: 0.0017\n",
            "Epoch 24/50\n",
            "127/127 [==============================] - 38s 303ms/step - loss: 6.0333e-07 - val_loss: 0.0017\n",
            "Epoch 25/50\n",
            "127/127 [==============================] - 38s 303ms/step - loss: 4.2939e-07 - val_loss: 0.0019\n",
            "Epoch 26/50\n",
            "127/127 [==============================] - 37s 289ms/step - loss: 4.6204e-07 - val_loss: 0.0020\n",
            "Epoch 27/50\n",
            "127/127 [==============================] - 35s 278ms/step - loss: 5.6657e-07 - val_loss: 0.0016\n",
            "Epoch 28/50\n",
            "127/127 [==============================] - 35s 273ms/step - loss: 3.4014e-07 - val_loss: 0.0017\n",
            "Epoch 29/50\n",
            "127/127 [==============================] - 35s 276ms/step - loss: 3.8628e-07 - val_loss: 0.0016\n",
            "Epoch 30/50\n",
            "127/127 [==============================] - 35s 274ms/step - loss: 3.6920e-07 - val_loss: 0.0016\n",
            "Epoch 31/50\n",
            "127/127 [==============================] - 36s 281ms/step - loss: 3.2704e-07 - val_loss: 0.0015\n",
            "Epoch 32/50\n",
            "127/127 [==============================] - 36s 280ms/step - loss: 4.4234e-07 - val_loss: 0.0023\n",
            "Epoch 33/50\n",
            "127/127 [==============================] - 35s 277ms/step - loss: 4.2930e-07 - val_loss: 0.0016\n",
            "Epoch 34/50\n",
            "127/127 [==============================] - 36s 280ms/step - loss: 3.9184e-07 - val_loss: 0.0022\n",
            "Epoch 35/50\n",
            "127/127 [==============================] - 35s 277ms/step - loss: 4.9410e-07 - val_loss: 0.0016\n",
            "Epoch 36/50\n",
            "127/127 [==============================] - 37s 288ms/step - loss: 4.3119e-07 - val_loss: 0.0017\n",
            "Epoch 37/50\n",
            "127/127 [==============================] - 37s 288ms/step - loss: 4.1093e-07 - val_loss: 0.0015\n",
            "Epoch 38/50\n",
            "127/127 [==============================] - 36s 284ms/step - loss: 6.0754e-07 - val_loss: 0.0015\n",
            "Epoch 39/50\n",
            "127/127 [==============================] - 36s 285ms/step - loss: 3.5677e-07 - val_loss: 0.0014\n",
            "Epoch 40/50\n",
            "127/127 [==============================] - 35s 277ms/step - loss: 4.7761e-07 - val_loss: 0.0014\n",
            "Epoch 41/50\n",
            "127/127 [==============================] - 35s 276ms/step - loss: 2.6937e-07 - val_loss: 0.0014\n",
            "Epoch 42/50\n",
            "127/127 [==============================] - 34s 270ms/step - loss: 3.4895e-07 - val_loss: 0.0013\n",
            "Epoch 43/50\n",
            "127/127 [==============================] - 34s 270ms/step - loss: 4.1041e-07 - val_loss: 0.0013\n",
            "Epoch 44/50\n",
            "127/127 [==============================] - 35s 277ms/step - loss: 5.2676e-07 - val_loss: 0.0013\n",
            "Epoch 45/50\n",
            "127/127 [==============================] - 34s 269ms/step - loss: 4.1135e-07 - val_loss: 0.0013\n",
            "Epoch 46/50\n",
            "127/127 [==============================] - 35s 273ms/step - loss: 3.5387e-07 - val_loss: 0.0013\n",
            "Epoch 47/50\n",
            "127/127 [==============================] - 35s 274ms/step - loss: 4.3455e-07 - val_loss: 0.0014\n",
            "Epoch 48/50\n",
            "127/127 [==============================] - 35s 277ms/step - loss: 4.2517e-07 - val_loss: 0.0014\n",
            "Epoch 49/50\n",
            "127/127 [==============================] - 36s 287ms/step - loss: 2.8204e-07 - val_loss: 0.0013\n",
            "Epoch 50/50\n",
            "127/127 [==============================] - 37s 289ms/step - loss: 3.4266e-07 - val_loss: 0.0013\n"
          ]
        }
      ]
    },
    {
      "cell_type": "code",
      "metadata": {
        "id": "3jd5qmbBveHd",
        "colab": {
          "base_uri": "https://localhost:8080/",
          "height": 589
        },
        "outputId": "e5bdc705-8c80-44aa-b800-cc9d8e5ad4bb"
      },
      "source": [
        "# Plot training & validation loss values\n",
        "fig, ax = plt.subplots(figsize=(20, 10), sharex=True)\n",
        "plt.plot(history.history[\"loss\"])\n",
        "plt.title(\"Model loss\")\n",
        "plt.ylabel(\"Loss\")\n",
        "plt.xlabel(\"Epoch\")\n",
        "ax.xaxis.set_major_locator(plt.MaxNLocator(epochs))\n",
        "plt.legend([\"Train\", \"Test\"], loc=\"upper left\")\n",
        "plt.grid()\n",
        "plt.show()"
      ],
      "execution_count": 15,
      "outputs": [
        {
          "output_type": "display_data",
          "data": {
            "image/png": "[encoded data removed]",
            "text/plain": [
              "<Figure size 1440x720 with 1 Axes>"
            ]
          },
          "metadata": {
            "needs_background": "light"
          }
        }
      ]
    },
    {
      "cell_type": "markdown",
      "metadata": {
        "id": "KT4RjtVvzMeR"
      },
      "source": [
        "# Step #6 Evaluate Model Performance"
      ]
    },
    {
      "cell_type": "code",
      "metadata": {
        "id": "KKqMl9_RveHe",
        "colab": {
          "base_uri": "https://localhost:8080/"
        },
        "outputId": "ba30248a-7983-46df-b0d4-12162bff9875"
      },
      "source": [
        "# Get the predicted values\n",
        "y_pred_scaled = model.predict(x_test)\n",
        "\n",
        "# Unscale the predicted values\n",
        "y_pred = scaler_pred.inverse_transform(y_pred_scaled)\n",
        "y_test_unscaled = scaler_pred.inverse_transform(y_test.reshape(-1, 1))\n",
        "\n",
        "# Mean Absolute Error (MAE)\n",
        "MAE = mean_absolute_error(y_test_unscaled, y_pred)\n",
        "print(f'Median Absolute Error (MAE): {np.round(MAE, 2)}')\n",
        "\n",
        "# Mean Absolute Percentage Error (MAPE)\n",
        "MAPE = np.mean((np.abs(np.subtract(y_test_unscaled, y_pred)/ y_test_unscaled))) * 100\n",
        "print(f'Mean Absolute Percentage Error (MAPE): {np.round(MAPE, 2)} %')\n",
        "\n",
        "# Median Absolute Percentage Error (MDAPE)\n",
        "MDAPE = np.median((np.abs(np.subtract(y_test_unscaled, y_pred)/ y_test_unscaled)) ) * 100\n",
        "print(f'Median Absolute Percentage Error (MDAPE): {np.round(MDAPE, 2)} %')"
      ],
      "execution_count": 16,
      "outputs": [
        {
          "output_type": "stream",
          "name": "stdout",
          "text": [
            "Median Absolute Error (MAE): 0.01\n",
            "Mean Absolute Percentage Error (MAPE): 9.84 %\n",
            "Median Absolute Percentage Error (MDAPE): 8.65 %\n"
          ]
        }
      ]
    },
    {
      "cell_type": "code",
      "metadata": {
        "id": "yWD1PgK0veHe",
        "colab": {
          "base_uri": "https://localhost:8080/",
          "height": 526
        },
        "outputId": "abe48678-2ab8-4293-ff3f-bd51499c1706"
      },
      "source": [
        "# The date from which on the date is displayed\n",
        "display_start_date = pd.Timestamp('today') - timedelta(days=500)\n",
        "\n",
        "# Add the date column\n",
        "data_filtered_sub = data_filtered.copy()\n",
        "data_filtered_sub['Date'] = date_index\n",
        "\n",
        "# Add the difference between the valid and predicted prices\n",
        "train = data_filtered_sub[:train_data_len + 1]\n",
        "valid = data_filtered_sub[train_data_len:]\n",
        "valid.insert(1, \"Prediction\", y_pred.ravel(), True)\n",
        "valid.insert(1, \"Difference\", valid[\"Prediction\"] - valid[\"Close\"], True)\n",
        "\n",
        "# Zoom in to a closer timeframe\n",
        "valid = valid[valid['Date'] > display_start_date]\n",
        "train = train[train['Date'] > display_start_date]\n",
        "\n",
        "# Visualize the data\n",
        "fig, ax1 = plt.subplots(figsize=(22, 10), sharex=True)\n",
        "xt = train['Date']; yt = train[[\"Close\"]]\n",
        "xv = valid['Date']; yv = valid[[\"Close\", \"Prediction\"]]\n",
        "plt.title(\"Predictions vs Actual Values\", fontsize=20)\n",
        "plt.ylabel(stockname, fontsize=18)\n",
        "plt.plot(xt, yt, color=\"#039dfc\", linewidth=2.0)\n",
        "plt.plot(xv, yv[\"Prediction\"], color=\"#E91D9E\", linewidth=2.0)\n",
        "plt.plot(xv, yv[\"Close\"], color=\"black\", linewidth=2.0)\n",
        "plt.legend([\"Train\", \"Test Predictions\", \"Actual Values\"], loc=\"upper left\")\n",
        "\n",
        "# # Create the bar plot with the differences\n",
        "x = valid['Date']\n",
        "y = valid[\"Difference\"]\n",
        "\n",
        "# Create custom color range for positive and negative differences\n",
        "valid.loc[y >= 0, 'diff_color'] = \"#2BC97A\"\n",
        "valid.loc[y < 0, 'diff_color'] = \"#C92B2B\"\n",
        "\n",
        "plt.bar(x, y, width=0.8, color=valid['diff_color'])\n",
        "plt.grid()\n",
        "plt.show()"
      ],
      "execution_count": 17,
      "outputs": [
        {
          "output_type": "display_data",
          "data": {
            "image/png": "[encoded data removed]",
            "text/plain": [
              "<Figure size 1584x720 with 1 Axes>"
            ]
          },
          "metadata": {
            "needs_background": "light"
          }
        }
      ]
    },
    {
      "cell_type": "markdown",
      "metadata": {
        "id": "LDJS0shVzRnB"
      },
      "source": [
        "# Step #7 Predict Next Day’s Price"
      ]
    },
    {
      "cell_type": "code",
      "metadata": {
        "id": "fVn2IkKWveHe",
        "colab": {
          "base_uri": "https://localhost:8080/"
        },
        "outputId": "e2af035f-3c7d-4d49-f7b5-4d8d4aebcf9b"
      },
      "source": [
        "df_temp = df[-sequence_length:]\n",
        "new_df = df_temp.filter(FEATURES)\n",
        "\n",
        "N = sequence_length\n",
        "\n",
        "# Get the last N day closing price values and scale the data to be values between 0 and 1\n",
        "last_N_days = new_df[-sequence_length:].values\n",
        "last_N_days_scaled = scaler.transform(last_N_days)\n",
        "\n",
        "# Create an empty list and Append past N days\n",
        "X_test_new = []\n",
        "X_test_new.append(last_N_days_scaled)\n",
        "\n",
        "# Convert the X_test data set to a numpy array and reshape the data\n",
        "pred_price_scaled = model.predict(np.array(X_test_new))\n",
        "pred_price_unscaled = scaler_pred.inverse_transform(pred_price_scaled.reshape(-1, 1))\n",
        "\n",
        "# Print last price and predicted price for the next day\n",
        "price_today = np.round(new_df['Close'][-1], 2)\n",
        "predicted_price = np.round(pred_price_unscaled.ravel()[0], 2)\n",
        "change_percent = np.round(100 - (price_today * 100)/predicted_price, 2)\n",
        "\n",
        "plus = '+'; minus = ''\n",
        "print(f'The close price for {stockname} at {today} was {price_today}')\n",
        "print(f'The predicted close price is {predicted_price} ({plus if change_percent > 0 else minus}{change_percent}%)')"
      ],
      "execution_count": 18,
      "outputs": [
        {
          "output_type": "stream",
          "name": "stdout",
          "text": [
            "The close price for DOGE at 2021-10-28 was 0.3\n",
            "The predicted close price is 0.2800000011920929 (-7.14%)\n"
          ]
        }
      ]
    }
  ]
}