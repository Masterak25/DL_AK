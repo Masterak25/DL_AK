{
  "nbformat": 4,
  "nbformat_minor": 0,
  "metadata": {
    "colab": {
      "name": "IMBD Review sentimental analysis using LSTM RNN.ipynb",
      "provenance": [],
      "authorship_tag": "ABX9TyM1ZmA7/q1t5yH/EWIWzKVc",
      "include_colab_link": true
    },
    "kernelspec": {
      "name": "python3",
      "display_name": "Python 3"
    },
    "language_info": {
      "name": "python"
    }
  },
  "cells": [
    {
      "cell_type": "markdown",
      "metadata": {
        "id": "view-in-github",
        "colab_type": "text"
      },
      "source": [
        "<a href=\"https://colab.research.google.com/github/Masterak25/DL_AK/blob/main/IMBD_Review_sentimental_analysis_using_LSTM_RNN.ipynb\" target=\"_parent\"><img src=\"https://colab.research.google.com/assets/colab-badge.svg\" alt=\"Open In Colab\"/></a>"
      ]
    },
    {
      "cell_type": "markdown",
      "metadata": {
        "id": "l0dzrZNZDROi"
      },
      "source": [
        "# Import the modules\n",
        "\n"
      ]
    },
    {
      "cell_type": "code",
      "metadata": {
        "id": "GgBGx9xEDH3u"
      },
      "source": [
        "from keras.preprocessing import sequence \n",
        "from keras.models import Sequential \n",
        "from keras.layers import Dense, Embedding \n",
        "from keras.layers import LSTM \n",
        "from keras.datasets import imdb"
      ],
      "execution_count": 1,
      "outputs": []
    },
    {
      "cell_type": "markdown",
      "metadata": {
        "id": "5BgMOt7KDfmK"
      },
      "source": [
        "# Load the imdb dataset."
      ]
    },
    {
      "cell_type": "code",
      "metadata": {
        "colab": {
          "base_uri": "https://localhost:8080/"
        },
        "id": "a44A_jSeDhnx",
        "outputId": "cca92c30-44a4-45f4-b7b4-81e78bdb55f2"
      },
      "source": [
        "(x_train, y_train), (x_test, y_test) = imdb.load_data(num_words = 2000)"
      ],
      "execution_count": 2,
      "outputs": [
        {
          "output_type": "stream",
          "name": "stdout",
          "text": [
            "Downloading data from https://storage.googleapis.com/tensorflow/tf-keras-datasets/imdb.npz\n",
            "17465344/17464789 [==============================] - 0s 0us/step\n",
            "17473536/17464789 [==============================] - 0s 0us/step\n"
          ]
        }
      ]
    },
    {
      "cell_type": "markdown",
      "metadata": {
        "id": "cQXUx620Dtah"
      },
      "source": [
        "# Process the data"
      ]
    },
    {
      "cell_type": "code",
      "metadata": {
        "id": "VWUw3iX9DqjR"
      },
      "source": [
        "x_train = sequence.pad_sequences(x_train, maxlen=80) \n",
        "x_test = sequence.pad_sequences(x_test, maxlen=80)"
      ],
      "execution_count": 3,
      "outputs": []
    },
    {
      "cell_type": "markdown",
      "metadata": {
        "id": "nyz1Ca8sD2I6"
      },
      "source": [
        "sequence.pad_sequences convert the list of input data with shape, (data) into 2D NumPy array of shape (data, timesteps). Basically, it adds timesteps concept into the given data. It generates the timesteps of length, maxlen."
      ]
    },
    {
      "cell_type": "markdown",
      "metadata": {
        "id": "R1CZy_i9D5hq"
      },
      "source": [
        "# Create the model"
      ]
    },
    {
      "cell_type": "code",
      "metadata": {
        "id": "KdHe9UXiD3V5"
      },
      "source": [
        "model = Sequential() \n",
        "model.add(Embedding(2000, 128)) \n",
        "model.add(LSTM(128, dropout = 0.2, recurrent_dropout = 0.2)) \n",
        "model.add(Dense(1, activation = 'sigmoid'))"
      ],
      "execution_count": 4,
      "outputs": []
    },
    {
      "cell_type": "markdown",
      "metadata": {
        "id": "C3Ds55WGD9Ba"
      },
      "source": [
        "#  Compile the model"
      ]
    },
    {
      "cell_type": "code",
      "metadata": {
        "id": "gjJx2edfEADy"
      },
      "source": [
        "model.compile(loss = 'binary_crossentropy', optimizer = 'adam', metrics = ['accuracy'])"
      ],
      "execution_count": 5,
      "outputs": []
    },
    {
      "cell_type": "markdown",
      "metadata": {
        "id": "L1-3Np6SEGQR"
      },
      "source": [
        "# Train the model"
      ]
    },
    {
      "cell_type": "code",
      "metadata": {
        "colab": {
          "base_uri": "https://localhost:8080/"
        },
        "id": "FEWZ503qEIPr",
        "outputId": "256c55a1-fc59-4a51-8f90-e5a49ab89b2a"
      },
      "source": [
        "model.fit(x_train, y_train, batch_size = 32, epochs = 15, \n",
        "          validation_data = (x_test, y_test))"
      ],
      "execution_count": 6,
      "outputs": [
        {
          "output_type": "stream",
          "name": "stdout",
          "text": [
            "Epoch 1/15\n",
            "782/782 [==============================] - 215s 270ms/step - loss: 0.4606 - accuracy: 0.7790 - val_loss: 0.3967 - val_accuracy: 0.8160\n",
            "Epoch 2/15\n",
            "782/782 [==============================] - 213s 272ms/step - loss: 0.3632 - accuracy: 0.8404 - val_loss: 0.3551 - val_accuracy: 0.8390\n",
            "Epoch 3/15\n",
            "782/782 [==============================] - 213s 273ms/step - loss: 0.3215 - accuracy: 0.8615 - val_loss: 0.3852 - val_accuracy: 0.8355\n",
            "Epoch 4/15\n",
            "782/782 [==============================] - 211s 270ms/step - loss: 0.2939 - accuracy: 0.8752 - val_loss: 0.3670 - val_accuracy: 0.8392\n",
            "Epoch 5/15\n",
            "782/782 [==============================] - 210s 269ms/step - loss: 0.2630 - accuracy: 0.8905 - val_loss: 0.3827 - val_accuracy: 0.8355\n",
            "Epoch 6/15\n",
            "782/782 [==============================] - 210s 269ms/step - loss: 0.2370 - accuracy: 0.9029 - val_loss: 0.4072 - val_accuracy: 0.8381\n",
            "Epoch 7/15\n",
            "782/782 [==============================] - 210s 269ms/step - loss: 0.2152 - accuracy: 0.9125 - val_loss: 0.4081 - val_accuracy: 0.8312\n",
            "Epoch 8/15\n",
            "782/782 [==============================] - 211s 269ms/step - loss: 0.1925 - accuracy: 0.9246 - val_loss: 0.4367 - val_accuracy: 0.8268\n",
            "Epoch 9/15\n",
            "782/782 [==============================] - 211s 269ms/step - loss: 0.1732 - accuracy: 0.9319 - val_loss: 0.4976 - val_accuracy: 0.8186\n",
            "Epoch 10/15\n",
            "782/782 [==============================] - 211s 270ms/step - loss: 0.1504 - accuracy: 0.9416 - val_loss: 0.5122 - val_accuracy: 0.8292\n",
            "Epoch 11/15\n",
            "782/782 [==============================] - 211s 270ms/step - loss: 0.1385 - accuracy: 0.9476 - val_loss: 0.5542 - val_accuracy: 0.8247\n",
            "Epoch 12/15\n",
            "782/782 [==============================] - 211s 269ms/step - loss: 0.1209 - accuracy: 0.9541 - val_loss: 0.6599 - val_accuracy: 0.8241\n",
            "Epoch 13/15\n",
            "782/782 [==============================] - 211s 270ms/step - loss: 0.1095 - accuracy: 0.9594 - val_loss: 0.6005 - val_accuracy: 0.8185\n",
            "Epoch 14/15\n",
            "782/782 [==============================] - 211s 270ms/step - loss: 0.0964 - accuracy: 0.9654 - val_loss: 0.6517 - val_accuracy: 0.8260\n",
            "Epoch 15/15\n",
            "782/782 [==============================] - 211s 270ms/step - loss: 0.0848 - accuracy: 0.9700 - val_loss: 0.6636 - val_accuracy: 0.8166\n"
          ]
        },
        {
          "output_type": "execute_result",
          "data": {
            "text/plain": [
              "<keras.callbacks.History at 0x7f32522aba50>"
            ]
          },
          "metadata": {},
          "execution_count": 6
        }
      ]
    },
    {
      "cell_type": "markdown",
      "metadata": {
        "id": "J2_dgh8wEUJn"
      },
      "source": [
        "# Evaluate the model"
      ]
    },
    {
      "cell_type": "code",
      "metadata": {
        "colab": {
          "base_uri": "https://localhost:8080/"
        },
        "id": "DVJ5IV4BES2C",
        "outputId": "52115f6f-065b-4e72-b216-9518afc4b338"
      },
      "source": [
        "score, acc = model.evaluate(x_test, y_test, batch_size = 32)"
      ],
      "execution_count": 7,
      "outputs": [
        {
          "output_type": "stream",
          "name": "stdout",
          "text": [
            "782/782 [==============================] - 24s 30ms/step - loss: 0.6636 - accuracy: 0.8166\n"
          ]
        }
      ]
    },
    {
      "cell_type": "code",
      "metadata": {
        "colab": {
          "base_uri": "https://localhost:8080/"
        },
        "id": "89S-6z_AEYPx",
        "outputId": "e2aadc4e-e115-47cc-b5d4-6d8a77d91349"
      },
      "source": [
        "print('Test score:', score) \n",
        "print('Test accuracy:', acc)"
      ],
      "execution_count": 8,
      "outputs": [
        {
          "output_type": "stream",
          "name": "stdout",
          "text": [
            "Test score: 0.6635511517524719\n",
            "Test accuracy: 0.8166400194168091\n"
          ]
        }
      ]
    }
  ]
}