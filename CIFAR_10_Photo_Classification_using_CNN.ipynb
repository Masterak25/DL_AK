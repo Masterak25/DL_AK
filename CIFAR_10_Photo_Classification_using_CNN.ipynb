{
  "nbformat": 4,
  "nbformat_minor": 0,
  "metadata": {
    "colab": {
      "name": "CIFAR-10 Photo Classification using CNN.ipynb",
      "provenance": [],
      "authorship_tag": "ABX9TyOuT7P7sab7yGZJZcqiVNaI",
      "include_colab_link": true
    },
    "kernelspec": {
      "name": "python3",
      "display_name": "Python 3"
    },
    "language_info": {
      "name": "python"
    }
  },
  "cells": [
    {
      "cell_type": "markdown",
      "metadata": {
        "id": "view-in-github",
        "colab_type": "text"
      },
      "source": [
        "<a href=\"https://colab.research.google.com/github/Masterak25/DL_AK/blob/main/CIFAR_10_Photo_Classification_using_CNN.ipynb\" target=\"_parent\"><img src=\"https://colab.research.google.com/assets/colab-badge.svg\" alt=\"Open In Colab\"/></a>"
      ]
    },
    {
      "cell_type": "code",
      "metadata": {
        "id": "Q11FtxGRKtL7"
      },
      "source": [
        "import pandas as pd\n",
        "import numpy as np \n",
        "import matplotlib.pyplot as plt \n",
        "import seaborn as sns \n",
        "import plotly as ply \n",
        "import cufflinks as cf \n",
        "import warnings \n",
        "warnings.filterwarnings('ignore')"
      ],
      "execution_count": 1,
      "outputs": []
    },
    {
      "cell_type": "markdown",
      "metadata": {
        "id": "41X1Zvc9K8NT"
      },
      "source": [
        "# Import and load the dataset"
      ]
    },
    {
      "cell_type": "code",
      "metadata": {
        "id": "7jerRiB2K7i8"
      },
      "source": [
        "from keras.datasets import cifar10"
      ],
      "execution_count": 2,
      "outputs": []
    },
    {
      "cell_type": "code",
      "metadata": {
        "colab": {
          "base_uri": "https://localhost:8080/"
        },
        "id": "mnZJ6EEiLAPz",
        "outputId": "10269b21-1887-4808-9656-d5dab7a41846"
      },
      "source": [
        "(x_train,y_train),(x_test,y_test)=cifar10.load_data()"
      ],
      "execution_count": 3,
      "outputs": [
        {
          "output_type": "stream",
          "name": "stdout",
          "text": [
            "Downloading data from https://www.cs.toronto.edu/~kriz/cifar-10-python.tar.gz\n",
            "170500096/170498071 [==============================] - 2s 0us/step\n",
            "170508288/170498071 [==============================] - 2s 0us/step\n"
          ]
        }
      ]
    },
    {
      "cell_type": "markdown",
      "metadata": {
        "id": "yvvwlC6vLLGu"
      },
      "source": [
        "# print shape of each variable"
      ]
    },
    {
      "cell_type": "code",
      "metadata": {
        "colab": {
          "base_uri": "https://localhost:8080/"
        },
        "id": "LskpPiTLLMgU",
        "outputId": "60e48e03-e174-41d1-8ac9-e637158b82f8"
      },
      "source": [
        "print(\"train image shape:\",x_train.shape)"
      ],
      "execution_count": 4,
      "outputs": [
        {
          "output_type": "stream",
          "name": "stdout",
          "text": [
            "train image shape: (50000, 32, 32, 3)\n"
          ]
        }
      ]
    },
    {
      "cell_type": "code",
      "metadata": {
        "colab": {
          "base_uri": "https://localhost:8080/"
        },
        "id": "PG1e_K2hLQnF",
        "outputId": "41f3afa7-7179-48b3-bf50-63034738a6d6"
      },
      "source": [
        "print(\"train label shape:\",y_train.shape)"
      ],
      "execution_count": 5,
      "outputs": [
        {
          "output_type": "stream",
          "name": "stdout",
          "text": [
            "train label shape: (50000, 1)\n"
          ]
        }
      ]
    },
    {
      "cell_type": "code",
      "metadata": {
        "colab": {
          "base_uri": "https://localhost:8080/"
        },
        "id": "_oa1KlIRLWdl",
        "outputId": "3cb3d4cd-1dff-40ec-c985-5824fd930695"
      },
      "source": [
        "print(\"test image shape:\",x_test.shape)"
      ],
      "execution_count": 6,
      "outputs": [
        {
          "output_type": "stream",
          "name": "stdout",
          "text": [
            "test image shape: (10000, 32, 32, 3)\n"
          ]
        }
      ]
    },
    {
      "cell_type": "code",
      "metadata": {
        "colab": {
          "base_uri": "https://localhost:8080/"
        },
        "id": "ouQ4T7fdLXoD",
        "outputId": "25a71419-1344-4714-e0d9-25014951c5ad"
      },
      "source": [
        "print(\"test label shape:\",y_test.shape)"
      ],
      "execution_count": 7,
      "outputs": [
        {
          "output_type": "stream",
          "name": "stdout",
          "text": [
            "test label shape: (10000, 1)\n"
          ]
        }
      ]
    },
    {
      "cell_type": "code",
      "metadata": {
        "colab": {
          "base_uri": "https://localhost:8080/",
          "height": 283
        },
        "id": "Le7YstmVLc98",
        "outputId": "0170ec27-a281-4c5c-b1d1-2f8817ef4591"
      },
      "source": [
        "plt.imshow(x_train[7000])"
      ],
      "execution_count": 8,
      "outputs": [
        {
          "output_type": "execute_result",
          "data": {
            "text/plain": [
              "<matplotlib.image.AxesImage at 0x7f545cf529d0>"
            ]
          },
          "metadata": {},
          "execution_count": 8
        },
        {
          "output_type": "display_data",
          "data": {
            "image/png": "[encoded data removed]",
            "text/plain": [
              "<Figure size 432x288 with 1 Axes>"
            ]
          },
          "metadata": {
            "needs_background": "light"
          }
        }
      ]
    },
    {
      "cell_type": "code",
      "metadata": {
        "colab": {
          "base_uri": "https://localhost:8080/"
        },
        "id": "uldUfzJ2LgOs",
        "outputId": "852bfd87-03fd-464f-d500-93d3d9c0c970"
      },
      "source": [
        "y_train[7000]"
      ],
      "execution_count": 9,
      "outputs": [
        {
          "output_type": "execute_result",
          "data": {
            "text/plain": [
              "array([5], dtype=uint8)"
            ]
          },
          "metadata": {},
          "execution_count": 9
        }
      ]
    },
    {
      "cell_type": "markdown",
      "metadata": {
        "id": "h5v1xxrfLil6"
      },
      "source": [
        "# rescaling it to [0,1] range"
      ]
    },
    {
      "cell_type": "code",
      "metadata": {
        "id": "UmTJK5fXLjxc"
      },
      "source": [
        "# convert to float \n",
        "x_train=x_train.astype('float32') \n",
        "x_test=x_test.astype('float32')"
      ],
      "execution_count": 10,
      "outputs": []
    },
    {
      "cell_type": "markdown",
      "metadata": {
        "id": "6Wk7DmAQLq8M"
      },
      "source": [
        "First we need to convert the integer values of pixel to float and then divide the pixel values by the maximum pixel value i.e 255"
      ]
    },
    {
      "cell_type": "code",
      "metadata": {
        "id": "2IKSSoflLruk"
      },
      "source": [
        "# divide by max value 255 \n",
        "x_train=x_train/225.0 \n",
        "x_test=x_test/255.0"
      ],
      "execution_count": 11,
      "outputs": []
    },
    {
      "cell_type": "markdown",
      "metadata": {
        "id": "DMpdsRNdLyQs"
      },
      "source": [
        "one hot encoding to convert this integer value into a 10 channel one hot vector using to_categorical() utility function"
      ]
    },
    {
      "cell_type": "code",
      "metadata": {
        "id": "lmIvpgOSLy40"
      },
      "source": [
        "#one hot encoding of labels \n",
        "from keras.utils import np_utils \n",
        "y_train=np_utils.to_categorical(y_train,10) \n",
        "y_test=np_utils.to_categorical(y_test,10)"
      ],
      "execution_count": 12,
      "outputs": []
    },
    {
      "cell_type": "code",
      "metadata": {
        "colab": {
          "base_uri": "https://localhost:8080/"
        },
        "id": "Do8Bv-woL9x8",
        "outputId": "c3a4666e-42ce-4ea4-ac04-5e276ee7d0e7"
      },
      "source": [
        "y_train[0]"
      ],
      "execution_count": 13,
      "outputs": [
        {
          "output_type": "execute_result",
          "data": {
            "text/plain": [
              "array([0., 0., 0., 0., 0., 0., 1., 0., 0., 0.], dtype=float32)"
            ]
          },
          "metadata": {},
          "execution_count": 13
        }
      ]
    },
    {
      "cell_type": "markdown",
      "metadata": {
        "id": "1mwntrdQMBp8"
      },
      "source": [
        "In cifar-10 dataset the images are stored in a 4 dimensional array which is in accordance with the input shape required for 2D convolution operation in Keras, hence there is no need to reshape the images."
      ]
    },
    {
      "cell_type": "markdown",
      "metadata": {
        "id": "XeZibX4XMGRs"
      },
      "source": [
        "# CNN model"
      ]
    },
    {
      "cell_type": "code",
      "metadata": {
        "id": "co_238OfMHeE"
      },
      "source": [
        "from keras.models import Sequential \n",
        "from keras.layers import Dense,Conv2D,Flatten,MaxPooling2D"
      ],
      "execution_count": 14,
      "outputs": []
    },
    {
      "cell_type": "code",
      "metadata": {
        "id": "aX7J6j2gMKUE"
      },
      "source": [
        "model=Sequential()"
      ],
      "execution_count": 15,
      "outputs": []
    },
    {
      "cell_type": "code",
      "metadata": {
        "id": "DtV2EMbiMNBE"
      },
      "source": [
        "model.add(Conv2D(64,kernel_size=3,activation=\"relu\",input_shape=(32,32,3))) \n",
        "model.add(Conv2D(32,kernel_size=3,activation='relu'))"
      ],
      "execution_count": 16,
      "outputs": []
    },
    {
      "cell_type": "code",
      "metadata": {
        "id": "Bzr4VlPuMQz9"
      },
      "source": [
        "model.add(MaxPooling2D(pool_size=2))"
      ],
      "execution_count": 17,
      "outputs": []
    },
    {
      "cell_type": "code",
      "metadata": {
        "id": "VeWUm4giMS1k"
      },
      "source": [
        "model.add(Flatten()) \n",
        "model.add(Dense(200,activation='relu')) \n",
        "model.add(Dense(100,activation='relu')) \n",
        "model.add(Dense(50,activation='relu')) \n",
        "model.add(Dense(25,activation='relu'))"
      ],
      "execution_count": 18,
      "outputs": []
    },
    {
      "cell_type": "code",
      "metadata": {
        "id": "bVm5_73vMX3N"
      },
      "source": [
        "model.add(Dense(10,activation='softmax'))"
      ],
      "execution_count": 19,
      "outputs": []
    },
    {
      "cell_type": "code",
      "metadata": {
        "id": "HaLLONkpMdft"
      },
      "source": [
        "model.compile(optimizer='adam',loss='categorical_crossentropy',metrics=['accuracy'])"
      ],
      "execution_count": 20,
      "outputs": []
    },
    {
      "cell_type": "code",
      "metadata": {
        "colab": {
          "base_uri": "https://localhost:8080/"
        },
        "id": "0MVgQLX-Mele",
        "outputId": "f1f807de-40bc-4c29-d949-c90ca74e15df"
      },
      "source": [
        "model1=model.fit(x_train,y_train,epochs=10,verbose=1) \n",
        "model1"
      ],
      "execution_count": 22,
      "outputs": [
        {
          "output_type": "stream",
          "name": "stdout",
          "text": [
            "Epoch 1/10\n",
            "500/500 [==============================] - 163s 325ms/step - loss: 0.9396 - accuracy: 0.6685\n",
            "Epoch 2/10\n",
            "500/500 [==============================] - 163s 326ms/step - loss: 0.8361 - accuracy: 0.7047\n",
            "Epoch 3/10\n",
            "500/500 [==============================] - 163s 326ms/step - loss: 0.7362 - accuracy: 0.7417\n",
            "Epoch 4/10\n",
            "500/500 [==============================] - 163s 325ms/step - loss: 0.6312 - accuracy: 0.7805\n",
            "Epoch 5/10\n",
            "500/500 [==============================] - 163s 325ms/step - loss: 0.5415 - accuracy: 0.8102\n",
            "Epoch 6/10\n",
            "500/500 [==============================] - 162s 324ms/step - loss: 0.4377 - accuracy: 0.8479\n",
            "Epoch 7/10\n",
            "500/500 [==============================] - 162s 325ms/step - loss: 0.3509 - accuracy: 0.8796\n",
            "Epoch 8/10\n",
            "500/500 [==============================] - 162s 325ms/step - loss: 0.2769 - accuracy: 0.9038\n",
            "Epoch 9/10\n",
            "500/500 [==============================] - 162s 324ms/step - loss: 0.2197 - accuracy: 0.9251\n",
            "Epoch 10/10\n",
            "500/500 [==============================] - 162s 324ms/step - loss: 0.1750 - accuracy: 0.9398\n"
          ]
        },
        {
          "output_type": "execute_result",
          "data": {
            "text/plain": [
              "<keras.callbacks.History at 0x7f5455795850>"
            ]
          },
          "metadata": {},
          "execution_count": 22
        }
      ]
    },
    {
      "cell_type": "code",
      "metadata": {
        "id": "Iqelu5-3Mj6N"
      },
      "source": [
        "y_pred=model.predict(x_test[0:9])"
      ],
      "execution_count": 23,
      "outputs": []
    },
    {
      "cell_type": "code",
      "metadata": {
        "id": "GXgE65dHMm5s"
      },
      "source": [
        "y_true_cls = np.argmax(y_test[0:9], axis=1)"
      ],
      "execution_count": 24,
      "outputs": []
    },
    {
      "cell_type": "code",
      "metadata": {
        "id": "1ClzJIsqMo3k"
      },
      "source": [
        "y_pred_cls = np.argmax(y_pred, axis=1)"
      ],
      "execution_count": 25,
      "outputs": []
    },
    {
      "cell_type": "code",
      "metadata": {
        "id": "LAqEnb0pMsXl"
      },
      "source": [
        "cls_labels =[\"airoplane\", \"automobile\",\"bird\",\"cat\",\"deer\",\"dog\",\"frog\",\"horse\",\"ship\",\"truck\"]"
      ],
      "execution_count": 26,
      "outputs": []
    },
    {
      "cell_type": "code",
      "metadata": {
        "colab": {
          "base_uri": "https://localhost:8080/",
          "height": 480
        },
        "id": "QXC__uunMtDk",
        "outputId": "b9886dd3-ea86-42cf-b8c4-a7ba550b5798"
      },
      "source": [
        "fig, axes = plt.subplots(3, 3, figsize=(8,8)) \n",
        "fig.subplots_adjust(hspace=0.5, wspace=0.5) \n",
        "for i, ax in enumerate(axes.flat): \n",
        "  ax.imshow(x_test[i]) \n",
        "  xlabel = \"True: {0}, Pred: {1}\".format(cls_labels[y_true_cls[i]], cls_labels[y_pred_cls[i]]) \n",
        "  ax.set_xlabel(xlabel) \n",
        "  ax.set_xticks([]) \n",
        "  ax.set_yticks([]) \n",
        "plt.show()"
      ],
      "execution_count": 28,
      "outputs": [
        {
          "output_type": "display_data",
          "data": {
            "image/png": "[encoded data removed]",
            "text/plain": [
              "<Figure size 576x576 with 9 Axes>"
            ]
          },
          "metadata": {}
        }
      ]
    },
    {
      "cell_type": "code",
      "metadata": {
        "colab": {
          "base_uri": "https://localhost:8080/"
        },
        "id": "52NmrHpUM6tt",
        "outputId": "b5c746d8-94b1-4e2d-d746-f0b9b2aac133"
      },
      "source": [
        "y_pred[2]"
      ],
      "execution_count": 29,
      "outputs": [
        {
          "output_type": "execute_result",
          "data": {
            "text/plain": [
              "array([4.16508736e-03, 1.37624293e-05, 2.04463322e-06, 4.79757318e-08,\n",
              "       4.20641975e-08, 2.36292830e-09, 3.26006044e-09, 2.97171958e-08,\n",
              "       9.95807886e-01, 1.10846295e-05], dtype=float32)"
            ]
          },
          "metadata": {},
          "execution_count": 29
        }
      ]
    },
    {
      "cell_type": "code",
      "metadata": {
        "colab": {
          "base_uri": "https://localhost:8080/"
        },
        "id": "Lm2Rd1-RM7W0",
        "outputId": "dfa9c4ee-3ef6-4c4e-8ece-b34edc701614"
      },
      "source": [
        "np.argmax(y_pred[2])"
      ],
      "execution_count": 30,
      "outputs": [
        {
          "output_type": "execute_result",
          "data": {
            "text/plain": [
              "8"
            ]
          },
          "metadata": {},
          "execution_count": 30
        }
      ]
    },
    {
      "cell_type": "code",
      "metadata": {
        "colab": {
          "base_uri": "https://localhost:8080/"
        },
        "id": "szHuhSD8M_4F",
        "outputId": "26357a96-ab3a-446d-fd09-fd3f270d87ac"
      },
      "source": [
        "y_test[2]"
      ],
      "execution_count": 34,
      "outputs": [
        {
          "output_type": "execute_result",
          "data": {
            "text/plain": [
              "array([0., 0., 0., 0., 0., 0., 0., 0., 1., 0.], dtype=float32)"
            ]
          },
          "metadata": {},
          "execution_count": 34
        }
      ]
    },
    {
      "cell_type": "code",
      "metadata": {
        "id": "-FuxUfihNAmh"
      },
      "source": [
        "score=model.evaluate(x_test,y_test, verbose = 0)"
      ],
      "execution_count": 32,
      "outputs": []
    },
    {
      "cell_type": "code",
      "metadata": {
        "colab": {
          "base_uri": "https://localhost:8080/"
        },
        "id": "uNaIYKwgNDFl",
        "outputId": "a2c4cf1e-80d5-4d4b-9460-1b171094eeb0"
      },
      "source": [
        "print('Test loss:', score[0]) \n",
        "print('Test accuracy:', score[1])"
      ],
      "execution_count": 33,
      "outputs": [
        {
          "output_type": "stream",
          "name": "stdout",
          "text": [
            "Test loss: 1.5344148874282837\n",
            "Test accuracy: 0.6638000011444092\n"
          ]
        }
      ]
    },
    {
      "cell_type": "code",
      "metadata": {
        "id": "h59WQ7i0NFd1"
      },
      "source": [
        "y_pred=model.predict(x_test)"
      ],
      "execution_count": 35,
      "outputs": []
    },
    {
      "cell_type": "code",
      "metadata": {
        "id": "sZd7PGdRNIi3"
      },
      "source": [
        "from sklearn.metrics import confusion_matrix"
      ],
      "execution_count": 36,
      "outputs": []
    },
    {
      "cell_type": "code",
      "metadata": {
        "id": "dYs6hEdQNLDF"
      },
      "source": [
        "y_true_cls1 = np.argmax(y_test, axis=1)"
      ],
      "execution_count": 37,
      "outputs": []
    },
    {
      "cell_type": "code",
      "metadata": {
        "id": "D5WDYz8tNLqF"
      },
      "source": [
        "y_pred_cls1 = np.argmax(y_pred, axis=1)"
      ],
      "execution_count": 38,
      "outputs": []
    },
    {
      "cell_type": "code",
      "metadata": {
        "id": "1SXIdZdcNNj9"
      },
      "source": [
        "cm=confusion_matrix(y_true_cls1, y_pred_cls1)"
      ],
      "execution_count": 39,
      "outputs": []
    },
    {
      "cell_type": "code",
      "metadata": {
        "colab": {
          "base_uri": "https://localhost:8080/",
          "height": 265
        },
        "id": "ukMI1mspNPaN",
        "outputId": "6f16e1e6-2580-45fd-c5da-0b5d31c792ea"
      },
      "source": [
        "sns.heatmap(pd.DataFrame(cm), annot=True, cmap=\"YlGnBu\" ,fmt='g');"
      ],
      "execution_count": 40,
      "outputs": [
        {
          "output_type": "display_data",
          "data": {
            "image/png": "[encoded data removed]",
            "text/plain": [
              "<Figure size 432x288 with 2 Axes>"
            ]
          },
          "metadata": {
            "needs_background": "light"
          }
        }
      ]
    },
    {
      "cell_type": "code",
      "metadata": {
        "colab": {
          "base_uri": "https://localhost:8080/",
          "height": 295
        },
        "id": "uEeakA03NRxl",
        "outputId": "0e2d8502-911b-402a-8122-6b33fa6fa110"
      },
      "source": [
        "plt.plot(model1.history['accuracy']) \n",
        "plt.title(\"model_accuracy\") \n",
        "plt.ylabel('accuracy') \n",
        "plt.xlabel('epoch') \n",
        "plt.show()"
      ],
      "execution_count": 42,
      "outputs": [
        {
          "output_type": "display_data",
          "data": {
            "image/png": "[encoded data removed]",
            "text/plain": [
              "<Figure size 432x288 with 1 Axes>"
            ]
          },
          "metadata": {
            "needs_background": "light"
          }
        }
      ]
    },
    {
      "cell_type": "code",
      "metadata": {
        "colab": {
          "base_uri": "https://localhost:8080/",
          "height": 295
        },
        "id": "bcjenOuwNVnu",
        "outputId": "1fd8ed0c-5176-43ba-8fb2-dfd72b22f923"
      },
      "source": [
        "plt.plot(model1.history['loss']) \n",
        "plt.title(\"model_accuracy\") \n",
        "plt.ylabel('loss') \n",
        "plt.xlabel('epoch') \n",
        "plt.show()"
      ],
      "execution_count": 44,
      "outputs": [
        {
          "output_type": "display_data",
          "data": {
            "image/png": "[encoded data removed]",
            "text/plain": [
              "<Figure size 432x288 with 1 Axes>"
            ]
          },
          "metadata": {
            "needs_background": "light"
          }
        }
      ]
    }
  ]
}